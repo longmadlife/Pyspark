{
 "cells": [
  {
   "cell_type": "code",
   "execution_count": 66,
   "id": "ed210226",
   "metadata": {},
   "outputs": [],
   "source": [
    "from pyspark import SparkContext, SparkConf\n",
    "from pyspark.sql import SparkSession, SQLContext\n",
    "import os \n",
    "import sys\n",
    "from pyspark.sql.functions import *\n",
    "from pyspark.sql.types import IntegerType\n",
    " "
   ]
  },
  {
   "cell_type": "code",
   "execution_count": 5,
   "id": "7375dc94",
   "metadata": {},
   "outputs": [],
   "source": [
    "os.environ[\"JAVA_HOME\"] = \"C:\\Program Files\\Java\\jdk-11\"\n"
   ]
  },
  {
   "cell_type": "code",
   "execution_count": 19,
   "id": "c1191255",
   "metadata": {},
   "outputs": [],
   "source": [
    "from pyspark.sql import SparkSession\n",
    "conf = SparkConf().setAppName('pyspark').setMaster(\"local\")\n",
    "# spark session\n",
    "sc = SparkContext.getOrCreate(conf=conf)\n",
    "spark = SparkSession(sc)\n",
    "\n",
    "#spark = SparkSession.builder.config(conf=conf).getOrCreate()\n"
   ]
  },
  {
   "cell_type": "code",
   "execution_count": 20,
   "id": "f746a98b",
   "metadata": {},
   "outputs": [
    {
     "data": {
      "text/html": [
       "\n",
       "            <div>\n",
       "                <p><b>SparkSession - in-memory</b></p>\n",
       "                \n",
       "        <div>\n",
       "            <p><b>SparkContext</b></p>\n",
       "\n",
       "            <p><a href=\"http://DESKTOP-U83L48T:4040\">Spark UI</a></p>\n",
       "\n",
       "            <dl>\n",
       "              <dt>Version</dt>\n",
       "                <dd><code>v3.5.0</code></dd>\n",
       "              <dt>Master</dt>\n",
       "                <dd><code>local</code></dd>\n",
       "              <dt>AppName</dt>\n",
       "                <dd><code>pyspark</code></dd>\n",
       "            </dl>\n",
       "        </div>\n",
       "        \n",
       "            </div>\n",
       "        "
      ],
      "text/plain": [
       "<pyspark.sql.session.SparkSession at 0x1d9b55ac790>"
      ]
     },
     "execution_count": 20,
     "metadata": {},
     "output_type": "execute_result"
    }
   ],
   "source": [
    "spark"
   ]
  },
  {
   "cell_type": "code",
   "execution_count": 33,
   "id": "a7b2586d",
   "metadata": {},
   "outputs": [],
   "source": [
    "df2 = spark.read.format('csv') \\\n",
    "                .options(header=True) \\\n",
    "                .options(inferSchema=True) \\\n",
    "                .load(r'C:\\Users\\ttg\\PycharmProjects\\pyspark\\source\\oltp\\USA_Presc_Medicare_Data_12021.csv')"
   ]
  },
  {
   "cell_type": "code",
   "execution_count": 34,
   "id": "49039421",
   "metadata": {},
   "outputs": [],
   "source": [
    "df1 = spark.read.format('parquet').load(r'C:\\Users\\ttg\\PycharmProjects\\pyspark\\source\\olap\\us_cities_dimension.parquet')"
   ]
  },
  {
   "cell_type": "code",
   "execution_count": 47,
   "id": "45a61044",
   "metadata": {},
   "outputs": [],
   "source": [
    "df_city_selection = df1.select(upper(df1.city).alias('city'), df1.state_id,\n",
    "                                       upper(df1.state_name).alias('state_name'),\n",
    "                                       upper(df1.county_name).alias('county_name'), df1.population, df1.zips)\n",
    "df_presc_selection = df2.select(df2.npi.alias('presc_npi'), df2.nppes_provider_last_org_name.alias('last_name'),\n",
    "                                        df2.nppes_provider_first_name.alias('first_name'),\n",
    "                                        df2.nppes_provider_city.alias('precs_city'),\n",
    "                                        df2.nppes_provider_state.alias('precs_state'),\n",
    "                                        df2.specialty_description.alias('presc_specialty'),\n",
    "                                        df2.drug_name, df2.total_claim_count, df2.total_day_supply, df2.total_drug_cost,\n",
    "                                        df2.years_of_exp)"
   ]
  },
  {
   "cell_type": "markdown",
   "id": "48ae096a",
   "metadata": {},
   "source": [
    "## Cleaing data\n"
   ]
  },
  {
   "cell_type": "code",
   "execution_count": 48,
   "id": "861ceb35",
   "metadata": {},
   "outputs": [
    {
     "name": "stdout",
     "output_type": "stream",
     "text": [
      "+----------+----------+-----------+-----------------+--------------------+-----------------+----------------+---------------+------------+-----------------+\n",
      "| presc_npi|precs_city|precs_state|  presc_specialty|           drug_name|total_claim_count|total_day_supply|total_drug_cost|years_of_exp|        full_name|\n",
      "+----------+----------+-----------+-----------------+--------------------+-----------------+----------------+---------------+------------+-----------------+\n",
      "|2006000252|CUMBERLAND|         MD|Internal Medicine|ATORVASTATIN CALCIUM|               13|             450|         139.32|      = 45.0|ENKESHAFI ARDALAN|\n",
      "|2006000252|CUMBERLAND|         MD|Internal Medicine|   CIPROFLOXACIN HCL|               11|              96|          80.99|      = 43.0|ENKESHAFI ARDALAN|\n",
      "|2006000252|CUMBERLAND|         MD|Internal Medicine| DOXYCYCLINE HYCLATE|               20|             199|         586.12|      = 33.0|ENKESHAFI ARDALAN|\n",
      "|2006000252|CUMBERLAND|         MD|Internal Medicine|             ELIQUIS|               17|             510|        6065.02|      = 44.0|ENKESHAFI ARDALAN|\n",
      "|2006000252|CUMBERLAND|         MD|Internal Medicine|          FUROSEMIDE|               17|             405|          45.76|      = 55.0|ENKESHAFI ARDALAN|\n",
      "+----------+----------+-----------+-----------------+--------------------+-----------------+----------------+---------------+------------+-----------------+\n",
      "only showing top 5 rows\n",
      "\n"
     ]
    }
   ],
   "source": [
    "df_presc_selection = df_presc_selection.withColumn(\"full_name\", concat_ws(\" \", col(\"last_name\"), col(\"first_name\")))\n",
    "df_presc_selection = df_presc_selection.drop(\"last_name\", \"first_name\")\n",
    "\n",
    "\n",
    "df_presc_selection.show(5)\n"
   ]
  },
  {
   "cell_type": "code",
   "execution_count": 49,
   "id": "6d513782",
   "metadata": {},
   "outputs": [
    {
     "data": {
      "text/plain": [
       "StructType(List(StructField(presc_npi,IntegerType,true),StructField(precs_city,StringType,true),StructField(precs_state,StringType,true),StructField(presc_specialty,StringType,true),StructField(drug_name,StringType,true),StructField(total_claim_count,IntegerType,true),StructField(total_day_supply,IntegerType,true),StructField(total_drug_cost,DoubleType,true),StructField(years_of_exp,StringType,true),StructField(full_name,StringType,false)))"
      ]
     },
     "execution_count": 49,
     "metadata": {},
     "output_type": "execute_result"
    }
   ],
   "source": [
    "df_presc_selection.schema"
   ]
  },
  {
   "cell_type": "code",
   "execution_count": 56,
   "id": "130f378c",
   "metadata": {},
   "outputs": [
    {
     "name": "stdout",
     "output_type": "stream",
     "text": [
      "+----------+----------+-----------+-----------------+--------------------+-----------------+----------------+---------------+------------+-----------------+\n",
      "| presc_npi|precs_city|precs_state|  presc_specialty|           drug_name|total_claim_count|total_day_supply|total_drug_cost|years_of_exp|        full_name|\n",
      "+----------+----------+-----------+-----------------+--------------------+-----------------+----------------+---------------+------------+-----------------+\n",
      "|2006000252|CUMBERLAND|         MD|Internal Medicine|ATORVASTATIN CALCIUM|               13|             450|         139.32|          45|ENKESHAFI ARDALAN|\n",
      "|2006000252|CUMBERLAND|         MD|Internal Medicine|   CIPROFLOXACIN HCL|               11|              96|          80.99|          43|ENKESHAFI ARDALAN|\n",
      "|2006000252|CUMBERLAND|         MD|Internal Medicine| DOXYCYCLINE HYCLATE|               20|             199|         586.12|          33|ENKESHAFI ARDALAN|\n",
      "|2006000252|CUMBERLAND|         MD|Internal Medicine|             ELIQUIS|               17|             510|        6065.02|          44|ENKESHAFI ARDALAN|\n",
      "|2006000252|CUMBERLAND|         MD|Internal Medicine|          FUROSEMIDE|               17|             405|          45.76|          55|ENKESHAFI ARDALAN|\n",
      "+----------+----------+-----------+-----------------+--------------------+-----------------+----------------+---------------+------------+-----------------+\n",
      "only showing top 5 rows\n",
      "\n"
     ]
    },
    {
     "data": {
      "text/plain": [
       "StructType(List(StructField(presc_npi,IntegerType,true),StructField(precs_city,StringType,true),StructField(precs_state,StringType,true),StructField(presc_specialty,StringType,true),StructField(drug_name,StringType,true),StructField(total_claim_count,IntegerType,true),StructField(total_day_supply,IntegerType,true),StructField(total_drug_cost,DoubleType,true),StructField(years_of_exp,IntegerType,true),StructField(full_name,StringType,false)))"
      ]
     },
     "execution_count": 56,
     "metadata": {},
     "output_type": "execute_result"
    }
   ],
   "source": [
    "df_presc_selection = df_presc_selection.withColumn(\"years_of_exp\", regexp_replace(\"years_of_exp\", \"=\", \"\"))\n",
    "df_presc_selection = df_presc_selection.withColumn(\"years_of_exp\", df_presc_selection[\"years_of_exp\"].cast(IntegerType()))\n",
    "df_presc_selection.show(5)\n",
    "df_presc_selection.schema"
   ]
  },
  {
   "cell_type": "code",
   "execution_count": 70,
   "id": "c2f9641b",
   "metadata": {},
   "outputs": [
    {
     "name": "stdout",
     "output_type": "stream",
     "text": [
      "+---------+----------+-----------+---------------+---------+-----------------+----------------+---------------+------------+---------+\n",
      "|presc_npi|precs_city|precs_state|presc_specialty|drug_name|total_claim_count|total_day_supply|total_drug_cost|years_of_exp|full_name|\n",
      "+---------+----------+-----------+---------------+---------+-----------------+----------------+---------------+------------+---------+\n",
      "|       22|         1|          1|              1|       15|                3|               1|              1|           1|        0|\n",
      "+---------+----------+-----------+---------------+---------+-----------------+----------------+---------------+------------+---------+\n",
      "\n"
     ]
    }
   ],
   "source": [
    "#check missing values \n",
    "df_presc_selection.select([count(when(isnan(c) | isnull(c), c)).alias(c) for c in df_presc_selection.columns]).show()\n",
    "\n"
   ]
  },
  {
   "cell_type": "code",
   "execution_count": 71,
   "id": "9669662c",
   "metadata": {},
   "outputs": [],
   "source": [
    "df_presc_selection = df_presc_selection.dropna(subset = 'presc_npi')"
   ]
  },
  {
   "cell_type": "code",
   "execution_count": 72,
   "id": "9788d6da",
   "metadata": {},
   "outputs": [],
   "source": [
    "df_presc_selection = df_presc_selection.dropna(subset = 'drug_name')"
   ]
  },
  {
   "cell_type": "code",
   "execution_count": 73,
   "id": "68f234be",
   "metadata": {},
   "outputs": [
    {
     "name": "stdout",
     "output_type": "stream",
     "text": [
      "+---------+----------+-----------+---------------+---------+-----------------+----------------+---------------+------------+---------+\n",
      "|presc_npi|precs_city|precs_state|presc_specialty|drug_name|total_claim_count|total_day_supply|total_drug_cost|years_of_exp|full_name|\n",
      "+---------+----------+-----------+---------------+---------+-----------------+----------------+---------------+------------+---------+\n",
      "|        0|         0|          0|              0|        0|                2|               0|              0|           0|        0|\n",
      "+---------+----------+-----------+---------------+---------+-----------------+----------------+---------------+------------+---------+\n",
      "\n"
     ]
    }
   ],
   "source": [
    "df_presc_selection.select([count(when(isnan(c) | isnull(c), c)).alias(c) for c in df_presc_selection.columns]).show()\n"
   ]
  },
  {
   "cell_type": "code",
   "execution_count": 79,
   "id": "00f2b6a3",
   "metadata": {},
   "outputs": [
    {
     "name": "stdout",
     "output_type": "stream",
     "text": [
      "51.57326467512733\n"
     ]
    }
   ],
   "source": [
    "# replace total_claim_count with avg\n",
    "mean_total_claim_count = df_presc_selection.select(mean('total_claim_count')).first()[0]\n",
    "print(mean_total_claim_count)"
   ]
  },
  {
   "cell_type": "code",
   "execution_count": 82,
   "id": "d67560ea",
   "metadata": {},
   "outputs": [],
   "source": [
    "df_presc_selection = df_presc_selection.fillna(mean_total_claim_count, 'total_claim_count')\n"
   ]
  },
  {
   "cell_type": "code",
   "execution_count": 83,
   "id": "84540b07",
   "metadata": {},
   "outputs": [
    {
     "name": "stdout",
     "output_type": "stream",
     "text": [
      "+---------+----------+-----------+---------------+---------+-----------------+----------------+---------------+------------+---------+\n",
      "|presc_npi|precs_city|precs_state|presc_specialty|drug_name|total_claim_count|total_day_supply|total_drug_cost|years_of_exp|full_name|\n",
      "+---------+----------+-----------+---------------+---------+-----------------+----------------+---------------+------------+---------+\n",
      "|        0|         0|          0|              0|        0|                0|               0|              0|           0|        0|\n",
      "+---------+----------+-----------+---------------+---------+-----------------+----------------+---------------+------------+---------+\n",
      "\n"
     ]
    }
   ],
   "source": [
    "df_presc_selection.select([count(when(isnan(c) | isnull(c), c)).alias(c) for c in df_presc_selection.columns]).show()\n"
   ]
  },
  {
   "cell_type": "code",
   "execution_count": null,
   "id": "bd7569cf",
   "metadata": {},
   "outputs": [],
   "source": []
  }
 ],
 "metadata": {
  "kernelspec": {
   "display_name": "Python 3 (ipykernel)",
   "language": "python",
   "name": "python3"
  },
  "language_info": {
   "codemirror_mode": {
    "name": "ipython",
    "version": 3
   },
   "file_extension": ".py",
   "mimetype": "text/x-python",
   "name": "python",
   "nbconvert_exporter": "python",
   "pygments_lexer": "ipython3",
   "version": "3.8.3"
  }
 },
 "nbformat": 4,
 "nbformat_minor": 5
}
